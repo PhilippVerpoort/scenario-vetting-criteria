{
 "cells": [
  {
   "cell_type": "markdown",
   "id": "9c8d384f-091b-4fa9-8a28-1a5502d8d017",
   "metadata": {},
   "source": [
    "This has to be run in order to compile this notebook while the R package is still under development."
   ]
  },
  {
   "cell_type": "code",
   "execution_count": null,
   "id": "8855ebf1",
   "metadata": {},
   "outputs": [],
   "source": [
    "devtools::load_all()"
   ]
  },
  {
   "cell_type": "markdown",
   "id": "db511290-519a-44af-9df3-16512ad7e3f7",
   "metadata": {},
   "source": [
    "## Installation"
   ]
  },
  {
   "cell_type": "markdown",
   "id": "e2512b2e-d2e4-4859-b706-c97a587b0e94",
   "metadata": {},
   "source": [
    "While the R package has not been released yet, you have to install it from GitHub source using:\n",
    "\n",
    "```R\n",
    "install_github('PhilippVerpoort/scenario_vetting_criteria')\n",
    "```"
   ]
  },
  {
   "cell_type": "markdown",
   "id": "8ba5c24e",
   "metadata": {},
   "source": [
    "## Raw file paths"
   ]
  },
  {
   "cell_type": "markdown",
   "id": "b93469ce",
   "metadata": {},
   "source": [
    "The package contains definition files for the criteria. The paths to those files are contained in `file_paths`."
   ]
  },
  {
   "cell_type": "code",
   "execution_count": null,
   "id": "6935b3c2",
   "metadata": {},
   "outputs": [],
   "source": [
    "library(scenariovettingcriteria)\n",
    "\n",
    "for (component_id in names(file_paths)) {\n",
    "  component_path <- file_paths[[component_id]]\n",
    "  print(paste0(component_id, \":  ...\", substr(as.character(component_path), nchar(as.character(component_path)) - 39, nchar(as.character(component_path)))))\n",
    "}"
   ]
  },
  {
   "cell_type": "markdown",
   "id": "1c9dcaa7",
   "metadata": {},
   "source": [
    "## Load functions"
   ]
  },
  {
   "cell_type": "markdown",
   "id": "598d7472",
   "metadata": {},
   "source": [
    "Instead of loading the data from these files manually, it is recommended to use the built-in load functions from the package via `load_criteria`. For instance, the following will load the definition of the thresholds values."
   ]
  },
  {
   "cell_type": "code",
   "execution_count": null,
   "id": "57f2505d",
   "metadata": {},
   "outputs": [],
   "source": [
    "load_criteria('criteria-thresholds')"
   ]
  },
  {
   "cell_type": "markdown",
   "id": "40155ca9",
   "metadata": {},
   "source": [
    "Multiple files can be loaded in one go."
   ]
  },
  {
   "cell_type": "code",
   "execution_count": null,
   "id": "2fc3c9e3",
   "metadata": {},
   "outputs": [],
   "source": [
    "criteria <- load_criteria(c('criteria-thresholds', 'operations'))\n",
    "criteria$operations"
   ]
  },
  {
   "cell_type": "markdown",
   "id": "5c80c827",
   "metadata": {},
   "source": [
    "## Apply vetting criteria to scenarios"
   ]
  },
  {
   "cell_type": "markdown",
   "id": "fe98dd04",
   "metadata": {},
   "source": [
    "A tutorial on how to apply the vetting criteria to a list of scenarios based on [piamValidation](https://pik-piam.github.io/piamValidation/) will be made available later."
   ]
  }
 ],
 "metadata": {
  "jupytext": {
   "encoding": "# -*- coding: utf-8 -*-",
   "formats": "ipynb,py:light"
  },
  "kernelspec": {
   "display_name": "R",
   "language": "R",
   "name": "ir"
  },
  "language_info": {
   "codemirror_mode": "r",
   "file_extension": ".r",
   "mimetype": "text/x-r-source",
   "name": "R",
   "pygments_lexer": "r",
   "version": "4.4.1"
  }
 },
 "nbformat": 4,
 "nbformat_minor": 5
}
